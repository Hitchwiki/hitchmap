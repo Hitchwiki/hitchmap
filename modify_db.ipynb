{
 "cells": [
  {
   "cell_type": "code",
   "execution_count": 1,
   "metadata": {},
   "outputs": [],
   "source": [
    "import pandas as pd\n",
    "import sqlite3"
   ]
  },
  {
   "cell_type": "code",
   "execution_count": 4,
   "metadata": {},
   "outputs": [
    {
     "data": {
      "text/html": [
       "<div>\n",
       "<style scoped>\n",
       "    .dataframe tbody tr th:only-of-type {\n",
       "        vertical-align: middle;\n",
       "    }\n",
       "\n",
       "    .dataframe tbody tr th {\n",
       "        vertical-align: top;\n",
       "    }\n",
       "\n",
       "    .dataframe thead th {\n",
       "        text-align: right;\n",
       "    }\n",
       "</style>\n",
       "<table border=\"1\" class=\"dataframe\">\n",
       "  <thead>\n",
       "    <tr style=\"text-align: right;\">\n",
       "      <th></th>\n",
       "      <th>datetime</th>\n",
       "      <th>ip</th>\n",
       "      <th>reviewed</th>\n",
       "      <th>accepted</th>\n",
       "      <th>lat</th>\n",
       "      <th>lon</th>\n",
       "      <th>link</th>\n",
       "    </tr>\n",
       "  </thead>\n",
       "  <tbody>\n",
       "  </tbody>\n",
       "</table>\n",
       "</div>"
      ],
      "text/plain": [
       "Empty DataFrame\n",
       "Columns: [datetime, ip, reviewed, accepted, lat, lon, link]\n",
       "Index: []"
      ]
     },
     "execution_count": 4,
     "metadata": {},
     "output_type": "execute_result"
    }
   ],
   "source": [
    "hitchwiki = pd.DataFrame(\n",
    "    columns=[\"datetime\", \"ip\", \"reviewed\", \"accepted\", \"lat\", \"lon\", \"link\"]\n",
    ")\n",
    "hitchwiki"
   ]
  },
  {
   "cell_type": "code",
   "execution_count": 5,
   "metadata": {},
   "outputs": [
    {
     "data": {
      "text/plain": [
       "0"
      ]
     },
     "execution_count": 5,
     "metadata": {},
     "output_type": "execute_result"
    }
   ],
   "source": [
    "hitchwiki.to_sql('hitchwiki', sqlite3.connect('points.sqlite'), index=False, if_exists='replace')"
   ]
  },
  {
   "cell_type": "code",
   "execution_count": 2,
   "metadata": {},
   "outputs": [],
   "source": [
    "hitchwiki = pd.read_sql('select * from hitchwiki', sqlite3.connect(\"points.sqlite\"))"
   ]
  },
  {
   "cell_type": "code",
   "execution_count": 3,
   "metadata": {},
   "outputs": [
    {
     "data": {
      "text/html": [
       "<div>\n",
       "<style scoped>\n",
       "    .dataframe tbody tr th:only-of-type {\n",
       "        vertical-align: middle;\n",
       "    }\n",
       "\n",
       "    .dataframe tbody tr th {\n",
       "        vertical-align: top;\n",
       "    }\n",
       "\n",
       "    .dataframe thead th {\n",
       "        text-align: right;\n",
       "    }\n",
       "</style>\n",
       "<table border=\"1\" class=\"dataframe\">\n",
       "  <thead>\n",
       "    <tr style=\"text-align: right;\">\n",
       "      <th></th>\n",
       "      <th>datetime</th>\n",
       "      <th>ip</th>\n",
       "      <th>reviewed</th>\n",
       "      <th>accepted</th>\n",
       "      <th>lat</th>\n",
       "      <th>lon</th>\n",
       "      <th>link</th>\n",
       "    </tr>\n",
       "  </thead>\n",
       "  <tbody>\n",
       "    <tr>\n",
       "      <th>0</th>\n",
       "      <td>2024-10-01 05:59:06.439784</td>\n",
       "      <td>172.20.10.2</td>\n",
       "      <td>0</td>\n",
       "      <td>0</td>\n",
       "      <td>52.565457243399</td>\n",
       "      <td>13.4717466831197</td>\n",
       "      <td>https://hitchwiki.org/en/Dresden#Option_1_-_Ha...</td>\n",
       "    </tr>\n",
       "    <tr>\n",
       "      <th>1</th>\n",
       "      <td>2024-10-01 05:59:48.494188</td>\n",
       "      <td>172.20.10.2</td>\n",
       "      <td>0</td>\n",
       "      <td>0</td>\n",
       "      <td>52.567925348484</td>\n",
       "      <td>13.428189754486</td>\n",
       "      <td>https://hitchwiki.org/en/Dresden#Option_1_-_Ha...</td>\n",
       "    </tr>\n",
       "  </tbody>\n",
       "</table>\n",
       "</div>"
      ],
      "text/plain": [
       "                     datetime           ip reviewed accepted              lat  \\\n",
       "0  2024-10-01 05:59:06.439784  172.20.10.2        0        0  52.565457243399   \n",
       "1  2024-10-01 05:59:48.494188  172.20.10.2        0        0  52.567925348484   \n",
       "\n",
       "                lon                                               link  \n",
       "0  13.4717466831197  https://hitchwiki.org/en/Dresden#Option_1_-_Ha...  \n",
       "1   13.428189754486  https://hitchwiki.org/en/Dresden#Option_1_-_Ha...  "
      ]
     },
     "execution_count": 3,
     "metadata": {},
     "output_type": "execute_result"
    }
   ],
   "source": [
    "hitchwiki"
   ]
  }
 ],
 "metadata": {
  "kernelspec": {
   "display_name": "Python 3",
   "language": "python",
   "name": "python3"
  },
  "language_info": {
   "codemirror_mode": {
    "name": "ipython",
    "version": 3
   },
   "file_extension": ".py",
   "mimetype": "text/x-python",
   "name": "python",
   "nbconvert_exporter": "python",
   "pygments_lexer": "ipython3",
   "version": "3.10.12"
  }
 },
 "nbformat": 4,
 "nbformat_minor": 2
}
